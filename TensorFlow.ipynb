{
 "cells": [
  {
   "cell_type": "code",
   "execution_count": null,
   "metadata": {},
   "outputs": [],
   "source": [
    "import tensorflow as tf\n",
    "\n",
    "#1 .创建输入张量\n",
    "a = tf.constant(2.)\n",
    "b = tf.constant(4.)\n",
    "\n",
    "#2. 直接计算并打印\n",
    "print('a+b=',a+b)"
   ]
  },
  {
   "cell_type": "code",
   "execution_count": 7,
   "metadata": {},
   "outputs": [
    {
     "name": "stdout",
     "output_type": "stream",
     "text": [
      "/job:localhost/replica:0/task:0/device:CPU:0 /job:localhost/replica:0/task:0/device:CPU:0\n",
      "/job:localhost/replica:0/task:0/device:CPU:0 /job:localhost/replica:0/task:0/device:CPU:0\n",
      "waimup: 0.0012641000000002123 0.00039330000000603604\n",
      "run time: 0.0007425000000012005 0.00032260000000405853\n"
     ]
    }
   ],
   "source": [
    "import tensorflow as tf\n",
    "import numpy as np\n",
    "import timeit\n",
    "\n",
    "#创建在CPU上运算的2个矩阵\n",
    "with tf.device('/cpu:0'):\n",
    "    cpu_a=tf.random.normal([1,10])\n",
    "    cpu_b=tf.random.normal([10,1])\n",
    "    print(cpu_a.device,cpu_b.device)\n",
    "#创建使用GPU运算的两个矩阵\n",
    "with tf.device('/gpu:0'):\n",
    "    gpu_a=tf.random.normal([1,10])\n",
    "    gpu_b=tf.random.normal([10,1])\n",
    "    print(gpu_a.device,gpu_b.device)\n",
    "\n",
    "def cpu_run():\n",
    "    with tf.device('/cpu:0'):\n",
    "        c = tf.matmul(cpu_a,cpu_b)\n",
    "    return c\n",
    "\n",
    "def gpu_run():\n",
    "    with tf.device('/gpu:0'):\n",
    "        c = tf.matmul(gpu_a,gpu_b)\n",
    "    return c\n",
    "\n",
    "#第一次计算需要热身，避免将初始化阶段时间结算在内\n",
    "cpu_time = timeit.timeit(cpu_run,number=10)\n",
    "gpu_time = timeit.timeit(gpu_run,number=10)\n",
    "print('waimup:',cpu_time,gpu_time)\n",
    "#正式计算十次，取平均时间\n",
    "cpu_time = timeit.timeit(cpu_run,number = 10)\n",
    "gpu_time = timeit.timeit(gpu_run,number = 10)\n",
    "print('run time:',cpu_time,gpu_time)"
   ]
  },
  {
   "cell_type": "code",
   "execution_count": 9,
   "metadata": {},
   "outputs": [
    {
     "name": "stdout",
     "output_type": "stream",
     "text": [
      "tf.Tensor(10.0, shape=(), dtype=float32)\n"
     ]
    },
    {
     "ename": "TypeError",
     "evalue": "__init__() got an unexpected keyword argument 'shape'",
     "output_type": "error",
     "traceback": [
      "\u001b[1;31m---------------------------------------------------------------------------\u001b[0m",
      "\u001b[1;31mTypeError\u001b[0m                                 Traceback (most recent call last)",
      "\u001b[1;32m<ipython-input-9-7b7ac3613c24>\u001b[0m in \u001b[0;36m<module>\u001b[1;34m\u001b[0m\n\u001b[0;32m     15\u001b[0m \u001b[1;33m[\u001b[0m\u001b[0mdy_dw\u001b[0m\u001b[1;33m]\u001b[0m \u001b[1;33m=\u001b[0m \u001b[0mtape\u001b[0m\u001b[1;33m.\u001b[0m\u001b[0mgradient\u001b[0m\u001b[1;33m(\u001b[0m\u001b[0my\u001b[0m\u001b[1;33m,\u001b[0m\u001b[1;33m[\u001b[0m\u001b[0mw\u001b[0m\u001b[1;33m]\u001b[0m\u001b[1;33m)\u001b[0m\u001b[1;33m\u001b[0m\u001b[1;33m\u001b[0m\u001b[0m\n\u001b[0;32m     16\u001b[0m \u001b[0mprint\u001b[0m\u001b[1;33m(\u001b[0m\u001b[0mdy_dw\u001b[0m\u001b[1;33m)\u001b[0m  \u001b[1;31m# 打印出导数\u001b[0m\u001b[1;33m\u001b[0m\u001b[1;33m\u001b[0m\u001b[0m\n\u001b[1;32m---> 17\u001b[1;33m \u001b[0mtf\u001b[0m\u001b[1;33m.\u001b[0m\u001b[0mTensor\u001b[0m\u001b[1;33m(\u001b[0m\u001b[1;36m10.0\u001b[0m\u001b[1;33m,\u001b[0m\u001b[0mshape\u001b[0m\u001b[1;33m=\u001b[0m\u001b[1;33m(\u001b[0m\u001b[1;36m1\u001b[0m\u001b[1;33m,\u001b[0m\u001b[1;36m1\u001b[0m\u001b[1;33m)\u001b[0m\u001b[1;33m,\u001b[0m\u001b[0mdtype\u001b[0m\u001b[1;33m=\u001b[0m\u001b[0mfloat32\u001b[0m\u001b[1;33m)\u001b[0m\u001b[1;33m\u001b[0m\u001b[1;33m\u001b[0m\u001b[0m\n\u001b[0m",
      "\u001b[1;31mTypeError\u001b[0m: __init__() got an unexpected keyword argument 'shape'"
     ]
    }
   ],
   "source": [
    "import tensorflow as tf\n",
    "from numpy import float32\n",
    "\n",
    "#创建4个张量\n",
    "a = tf.constant(1.)\n",
    "b = tf.constant(2.)\n",
    "c = tf.constant(3.)\n",
    "w= tf.constant(4.)\n",
    "\n",
    "with tf.GradientTape() as tape:  # 构建梯度环境\n",
    "    tape.watch([w])  # 将w加入梯度跟踪列表\n",
    "    # 构建计算过程\n",
    "    y= a*w**2+b*w+c\n",
    "# 求导\n",
    "[dy_dw] = tape.gradient(y,[w])\n",
    "print(dy_dw)  # 打印出导数\n",
    "tf.Tensor(10.0,shape=(1),dtype=float32)"
   ]
  },
  {
   "cell_type": "raw",
   "metadata": {},
   "source": [
    "# 线性回归"
   ]
  },
  {
   "cell_type": "code",
   "execution_count": 4,
   "metadata": {},
   "outputs": [],
   "source": [
    "import keras\n",
    "import numpy as np \n",
    "import matplotlib.pyplot as plt\n",
    "# sequrential按顺序构成的模型\n",
    "from keras.models import Sequential\n",
    "# Dense全连接层\n",
    "from keras.layers import Dense"
   ]
  },
  {
   "cell_type": "code",
   "execution_count": 5,
   "metadata": {},
   "outputs": [
    {
     "data": {
      "image/png": "[encoded data removed]",
      "text/plain": [
       "<Figure size 432x288 with 1 Axes>"
      ]
     },
     "metadata": {
      "needs_background": "light"
     },
     "output_type": "display_data"
    }
   ],
   "source": [
    "#使用numpy生成100个随机点\n",
    "x_data = np.random.rand(100)\n",
    "noise = np.random.normal(0,1.01,x_data.shape)\n",
    "y_data = x_data*0.1+ 0.2 + noise\n",
    "\n",
    "# 显示随机点\n",
    "plt.scatter(x_data,y_data)\n",
    "plt.show()"
   ]
  },
  {
   "cell_type": "code",
   "execution_count": 10,
   "metadata": {
    "scrolled": true
   },
   "outputs": [
    {
     "name": "stdout",
     "output_type": "stream",
     "text": [
      "cost: 0.7309870719909668\n",
      "cost: 0.6756536960601807\n",
      "cost: 0.6704288721084595\n",
      "cost: 0.6690817475318909\n",
      "cost: 0.6687344312667847\n",
      "cost: 0.6686448454856873\n",
      "cost: 0.6686217784881592\n",
      "W [[0.5534455]] b: [-0.17064539]\n"
     ]
    },
    {
     "data": {
      "image/png": "[encoded data removed]",
      "text/plain": [
       "<Figure size 432x288 with 1 Axes>"
      ]
     },
     "metadata": {
      "needs_background": "light"
     },
     "output_type": "display_data"
    }
   ],
   "source": [
    "# 构建一个顺序模型\n",
    "model = Sequential()\n",
    "# 在模型中添加一个全连接层\n",
    "model.add(Dense(units=1,input_dim=1))\n",
    "#sgd:Stochastic gradient descent,随机梯度下降法\n",
    "#mse:Mean Squared Error ,均方误差\n",
    "model.compile(optimizer='sgd',loss = 'mse')\n",
    "\n",
    "#训练3001个批次\n",
    "for step in range(3001):\n",
    "    # 每次训练一个批次\n",
    "    cost = model.train_on_batch(x_data,y_data)\n",
    "    # 每500个batch打印一次cost值\n",
    "    if step%500==0:\n",
    "        print('cost:',cost)\n",
    "\n",
    "# 打印权值和偏执值\n",
    "W,b= model.layers[0].get_weights()\n",
    "print('W',W,'b:',b)\n",
    "\n",
    "#x_data输入网络中，得到预测值y_pred\n",
    "y_pred=model.predict(x_data)\n",
    "\n",
    "#显示随机点\n",
    "plt.scatter(x_data,y_data)\n",
    "# 显示预测结果\n",
    "plt.plot(x_data,y_pred,'r-',lw=3)\n",
    "plt.show()\n"
   ]
  },
  {
   "cell_type": "raw",
   "metadata": {},
   "source": [
    "非线性回归"
   ]
  },
  {
   "cell_type": "code",
   "execution_count": 12,
   "metadata": {},
   "outputs": [],
   "source": [
    "import keras \n",
    "import numpy as np\n",
    "import matplotlib.pyplot as plt\n",
    "#Sequrential按顺序构成的模型\n",
    "from keras.models import Sequential\n",
    "# Dense全连接层\n",
    "from keras.layers import Dense,Activation\n",
    "from keras.optimizers import SGD"
   ]
  },
  {
   "cell_type": "code",
   "execution_count": 14,
   "metadata": {},
   "outputs": [
    {
     "data": {
      "image/png": "[encoded data removed]",
      "text/plain": [
       "<Figure size 432x288 with 1 Axes>"
      ]
     },
     "metadata": {
      "needs_background": "light"
     },
     "output_type": "display_data"
    }
   ],
   "source": [
    "# 使用numpy生成200个随机点\n",
    "x_data = np.linspace(-0.5,0.5,200)\n",
    "noise = np.random.normal(0,0.02,x_data.shape)\n",
    "y_data = np.square(x_data)+noise\n",
    "\n",
    "#显示随机点\n",
    "plt.scatter(x_data,y_data)\n",
    "plt.show()"
   ]
  },
  {
   "cell_type": "code",
   "execution_count": 18,
   "metadata": {},
   "outputs": [
    {
     "name": "stdout",
     "output_type": "stream",
     "text": [
      "cost: 0.010713103227317333\n",
      "cost: 0.0005370508297346532\n",
      "cost: 0.00047143117990344763\n",
      "cost: 0.00046682485844939947\n",
      "cost: 0.00046604048111476004\n",
      "cost: 0.0004659745027311146\n",
      "cost: 0.00046597025357186794\n"
     ]
    },
    {
     "data": {
      "image/png": "[encoded data removed]",
      "text/plain": [
       "<Figure size 432x288 with 1 Axes>"
      ]
     },
     "metadata": {
      "needs_background": "light"
     },
     "output_type": "display_data"
    }
   ],
   "source": [
    "# 构建一个顺序模型\n",
    "model = Sequential()\n",
    "# 在模型中添加一个全连接层\n",
    "# 1-10-1\n",
    "model.add(Dense(units=10,input_dim=1,activation='relu'))\n",
    "#model.add(Activation('tanh'))\n",
    "model.add(Dense(units=1,activation='relu'))\n",
    "#model.addd(Activation('tanh'))\n",
    "#定义优化算法\n",
    "sgd = SGD(lr=0.3)\n",
    "#sgd:Stochastic gradient descent，随机梯度下降法\n",
    "#mse:Mean Squared Erroe 均方误差\n",
    "model.compile(optimizer = sgd,loss='mse')\n",
    "          \n",
    "#训练3001个批次\n",
    "for step in range(3001):\n",
    "    #每次训练一个批次\n",
    "    cost = model.train_on_batch(x_data,y_data)\n",
    "    #每500个batch打印一次cost值\n",
    "    if step % 500 == 0 :\n",
    "        print('cost:',cost)\n",
    "\n",
    "#x_data输入网络中，得到预测值y_pred\n",
    "y_pred=model.predict(x_data)\n",
    "\n",
    "#显示随机点\n",
    "plt.scatter(x_data,y_data)\n",
    "#显示预测结果\n",
    "plt.plot(x_data,y_pred,'r-',lw=3)\n",
    "plt.show()"
   ]
  },
  {
   "cell_type": "raw",
   "metadata": {},
   "source": [
    "MINIST数据集分类"
   ]
  },
  {
   "cell_type": "code",
   "execution_count": 20,
   "metadata": {},
   "outputs": [],
   "source": [
    "import numpy as np\n",
    "from keras.datasets import mnist\n",
    "from keras.utils import np_utils\n",
    "from keras.models import Sequential\n",
    "from keras.layers import Dense\n",
    "from keras.optimizers import SGD"
   ]
  },
  {
   "cell_type": "code",
   "execution_count": 24,
   "metadata": {},
   "outputs": [
    {
     "name": "stdout",
     "output_type": "stream",
     "text": [
      "x_shape: (60000, 28, 28)\n",
      "y_shape: (60000,)\n",
      "Epoch 1/10\n",
      "1875/1875 [==============================] - 1s 512us/step - loss: 0.0533 - accuracy: 0.6504\n",
      "Epoch 2/10\n",
      "1875/1875 [==============================] - 1s 502us/step - loss: 0.0212 - accuracy: 0.8789\n",
      "Epoch 3/10\n",
      "1875/1875 [==============================] - 1s 504us/step - loss: 0.0181 - accuracy: 0.8911\n",
      "Epoch 4/10\n",
      "1875/1875 [==============================] - 1s 507us/step - loss: 0.0164 - accuracy: 0.9003\n",
      "Epoch 5/10\n",
      "1875/1875 [==============================] - 1s 513us/step - loss: 0.0160 - accuracy: 0.9004\n",
      "Epoch 6/10\n",
      "1875/1875 [==============================] - 1s 518us/step - loss: 0.0150 - accuracy: 0.90700s - loss: 0.0150 - accuracy: \n",
      "Epoch 7/10\n",
      "1875/1875 [==============================] - 1s 536us/step - loss: 0.0148 - accuracy: 0.9078\n",
      "Epoch 8/10\n",
      "1875/1875 [==============================] - 1s 525us/step - loss: 0.0144 - accuracy: 0.9103\n",
      "Epoch 9/10\n",
      "1875/1875 [==============================] - 1s 533us/step - loss: 0.0139 - accuracy: 0.9133\n",
      "Epoch 10/10\n",
      "1875/1875 [==============================] - 1s 546us/step - loss: 0.0139 - accuracy: 0.9138\n",
      "313/313 [==============================] - 0s 515us/step - loss: 0.0130 - accuracy: 0.9160\n",
      "\n",
      "test loss 0.013000222854316235\n",
      "accuracy 0.9160000085830688\n"
     ]
    }
   ],
   "source": [
    "# 载入数据\n",
    "(x_train,y_train),(x_test,y_test) = mnist.load_data(\"C:\\ProgramData\\Anaconda3\\envs\\OpenCv\\Lib\\site-packages\\keras\\datasets\\mnist.npz\")\n",
    "# (60000,28,28)\n",
    "print('x_shape:',x_train.shape)\n",
    "# (60000)\n",
    "print('y_shape:',y_train.shape)\n",
    "# (60000,28,28)->(60000,784)\n",
    "x_train = x_train.reshape(x_train.shape[0],-1)/255.0\n",
    "x_test = x_test.reshape(x_test.shape[0],-1)/255.0\n",
    "# 换 ont hot 格式\n",
    "y_train = np_utils.to_categorical(y_train,num_classes=10)\n",
    "y_test = np_utils.to_categorical(y_test,num_classes=10)\n",
    "\n",
    "# 创建模型，输入784个神经元，输出10个神经元\n",
    "model = Sequential([\n",
    "    Dense(units=10,input_dim=784,bias_initializer='one',activation='softmax')])\n",
    "\n",
    "# 定义优化器\n",
    "sgd = SGD(lr=0.2)\n",
    "\n",
    "# 定义优化器，loss function,训练过程中计算准确率\n",
    "model.compile(\n",
    "    optimizer=sgd,\n",
    "    loss='mse',\n",
    "    metrics=['accuracy'],\n",
    ")\n",
    "\n",
    "# 训练模型\n",
    "model.fit(x_train,y_train,batch_size=32,epochs=10)\n",
    "\n",
    "# 评估模型\n",
    "loss,accuracy = model.evaluate(x_test,y_test)\n",
    "\n",
    "print('\\ntest loss',loss)\n",
    "print('accuracy',accuracy)\n"
   ]
  },
  {
   "cell_type": "markdown",
   "metadata": {},
   "source": [
    "Dropout应用"
   ]
  },
  {
   "cell_type": "code",
   "execution_count": 10,
   "metadata": {},
   "outputs": [],
   "source": [
    "import numpy as np\n",
    "from keras.datasets import mnist\n",
    "from keras.utils import np_utils\n",
    "from keras.models import Sequential\n",
    "from keras.layers import Dense,Dropout\n",
    "from keras.optimizers import SGD\n"
   ]
  },
  {
   "cell_type": "code",
   "execution_count": 21,
   "metadata": {},
   "outputs": [
    {
     "name": "stdout",
     "output_type": "stream",
     "text": [
      "x_shape: (60000, 28, 28)\n",
      "y_shape: (60000,)\n",
      "Epoch 1/10\n",
      "1875/1875 [==============================] - 3s 1ms/step - loss: 0.6726 - accuracy: 0.7937\n",
      "Epoch 2/10\n",
      "1875/1875 [==============================] - 2s 1ms/step - loss: 0.3010 - accuracy: 0.9091\n",
      "Epoch 3/10\n",
      "1875/1875 [==============================] - 2s 959us/step - loss: 0.2565 - accuracy: 0.9224\n",
      "Epoch 4/10\n",
      "1875/1875 [==============================] - 2s 895us/step - loss: 0.2169 - accuracy: 0.9351\n",
      "Epoch 5/10\n",
      "1875/1875 [==============================] - 2s 925us/step - loss: 0.1991 - accuracy: 0.9403\n",
      "Epoch 6/10\n",
      "1875/1875 [==============================] - 2s 912us/step - loss: 0.1830 - accuracy: 0.9444\n",
      "Epoch 7/10\n",
      "1875/1875 [==============================] - 2s 891us/step - loss: 0.1800 - accuracy: 0.9461\n",
      "Epoch 8/10\n",
      "1875/1875 [==============================] - 2s 921us/step - loss: 0.1687 - accuracy: 0.9496\n",
      "Epoch 9/10\n",
      "1875/1875 [==============================] - 2s 1ms/step - loss: 0.1629 - accuracy: 0.9520\n",
      "Epoch 10/10\n",
      "1875/1875 [==============================] - 2s 937us/step - loss: 0.1580 - accuracy: 0.9533\n",
      "313/313 [==============================] - 0s 706us/step - loss: 0.1038 - accuracy: 0.9706\n",
      "\n",
      "test loss 0.10376615077257156\n",
      "test accuracy 0.9706000089645386\n"
     ]
    }
   ],
   "source": [
    "# 载入数据\n",
    "(x_train,y_train),(x_test,y_test) = mnist.load_data(\"C:\\ProgramData\\Anaconda3\\envs\\OpenCv\\Lib\\site-packages\\keras\\datasets\\mnist.npz\")\n",
    "# (60000,28,28)\n",
    "print('x_shape:',x_train.shape)\n",
    "# (60000)\n",
    "print('y_shape:',y_train.shape)\n",
    "# （60000，28，28）-> （60000，784）\n",
    "x_train = x_train.reshape(x_train.shape[0],-1)/255.0\n",
    "x_test = x_test.reshape(x_test.shape[0],-1)/255.0\n",
    "# 换 one hot 格式\n",
    "y_train = np_utils.to_categorical(y_train,num_classes=10)\n",
    "y_test = np_utils.to_categorical(y_test,num_classes=10)\n",
    "\n",
    "#创建模型\n",
    "model = Sequential([\n",
    "    Dense(units=200,input_dim =784,bias_initializer='one',activation='tanh'),\n",
    "    Dropout(0.4),\n",
    "    Dense(units=100,bias_initializer='one',activation='tanh'),\n",
    "    Dropout(0.4),\n",
    "    Dense(units=10,bias_initializer='one',activation='softmax')\n",
    "])\n",
    "\n",
    "# 定义优化器\n",
    "sgd = SGD(lr=0.2)\n",
    "\n",
    "# 定义优化器，loss function,训练过程中计算准确率\n",
    "model.compile(\n",
    "    optimizer = sgd,\n",
    "    loss = 'categorical_crossentropy',\n",
    "    metrics = ['accuracy'],\n",
    ")\n",
    "\n",
    "#训练模型\n",
    "model.fit(x_train,y_train,batch_size=32,epochs=10)\n",
    "\n",
    "#评估模型\n",
    "loss,accuracy = model.evaluate(x_test,y_test)\n",
    "print('\\ntest loss',loss)\n",
    "print('test accuracy',accuracy)"
   ]
  },
  {
   "cell_type": "markdown",
   "metadata": {},
   "source": [
    "CNN应用于手写数字识别"
   ]
  },
  {
   "cell_type": "code",
   "execution_count": 3,
   "metadata": {},
   "outputs": [],
   "source": [
    "import numpy as np\n",
    "from keras.datasets import mnist\n",
    "from keras.utils import np_utils\n",
    "from keras.models import Sequential\n",
    "from keras.layers import Dense,Dropout,Convolution2D,MaxPooling2D,Flatten\n",
    "from keras.optimizers import Adam"
   ]
  },
  {
   "cell_type": "code",
   "execution_count": 6,
   "metadata": {},
   "outputs": [
    {
     "name": "stdout",
     "output_type": "stream",
     "text": [
      "Epoch 1/10\n",
      "938/938 [==============================] - 176s 187ms/step - loss: 0.5059 - accuracy: 0.8536\n",
      "Epoch 2/10\n",
      "938/938 [==============================] - 174s 186ms/step - loss: 0.0765 - accuracy: 0.9769\n",
      "Epoch 3/10\n",
      "938/938 [==============================] - 176s 187ms/step - loss: 0.0476 - accuracy: 0.9852\n",
      "Epoch 4/10\n",
      "938/938 [==============================] - 180s 192ms/step - loss: 0.0374 - accuracy: 0.9884\n",
      "Epoch 5/10\n",
      "938/938 [==============================] - 184s 197ms/step - loss: 0.0309 - accuracy: 0.9903\n",
      "Epoch 6/10\n",
      "938/938 [==============================] - 183s 195ms/step - loss: 0.0253 - accuracy: 0.9916\n",
      "Epoch 7/10\n",
      "938/938 [==============================] - 174s 185ms/step - loss: 0.0216 - accuracy: 0.9930\n",
      "Epoch 8/10\n",
      "938/938 [==============================] - 179s 191ms/step - loss: 0.0167 - accuracy: 0.9949\n",
      "Epoch 9/10\n",
      "938/938 [==============================] - 173s 184ms/step - loss: 0.0162 - accuracy: 0.9951\n",
      "Epoch 10/10\n",
      "938/938 [==============================] - 174s 186ms/step - loss: 0.0113 - accuracy: 0.9964\n",
      "313/313 [==============================] - 7s 23ms/step - loss: 0.0231 - accuracy: 0.9922\n",
      "test loss 0.023114675655961037\n",
      "test accuracy 0.9922000169754028\n"
     ]
    }
   ],
   "source": [
    "# 载入数据\n",
    "(x_train,y_train),(x_test,y_test) = mnist.load_data(\"C:\\ProgramData\\Anaconda3\\envs\\OpenCv\\Lib\\site-packages\\keras\\datasets\\mnist.npz\")\n",
    "# (60000,28,28)->(60000,28,28,1)\n",
    "x_train = x_train.reshape(-1,28,28,1)/255.0\n",
    "x_test = x_test.reshape(-1,28,28,1)/255.0\n",
    "# 换one hot 格式\n",
    "y_train = np_utils.to_categorical(y_train,num_classes=10)\n",
    "y_test = np_utils.to_categorical(y_test,num_classes=10)\n",
    "\n",
    "#定义顺序模型\n",
    "model = Sequential()\n",
    "\n",
    "# 第一个卷积层\n",
    "# input_shape 输入平面\n",
    "# filters 卷积核/滤波器个数\n",
    "# kernel_size 卷积窗口大小\n",
    "# strides 步长\n",
    "# padding padding方式 same/valid\n",
    "# activation 激活函数\n",
    "model.add(Convolution2D(\n",
    "    input_shape = (28,28,1),\n",
    "    filters = 32,\n",
    "    kernel_size = 5,\n",
    "    strides = 1,\n",
    "    padding = 'same',\n",
    "    activation = 'relu',\n",
    "))\n",
    "# 第二个卷积层\n",
    "model.add(Convolution2D(64,5,strides=1,padding='same',activation='relu'))\n",
    "#第二个池化层\n",
    "model.add(MaxPooling2D(2,2,'same'))\n",
    "# 把第二个池化层的输出扁平化为1维\n",
    "model.add(Flatten())\n",
    "# 第一个全连接层\n",
    "model.add(Dense(1024,activation = 'relu'))\n",
    "# Dropout\n",
    "model.add(Dropout(0.5))\n",
    "# 第二个全连接层\n",
    "model.add(Dense(10,activation='softmax'))\n",
    "\n",
    "# 定义优化器\n",
    "adam = Adam(lr=1e-4)\n",
    "\n",
    "#定义优化器，loss function,训练过程中计算准确率\n",
    "model.compile(optimizer=adam,loss='categorical_crossentropy',metrics=['accuracy'])\n",
    "\n",
    "#训练模型\n",
    "model.fit(x_train,y_train,batch_size=64,epochs=10)\n",
    "\n",
    "#评估模型\n",
    "loss,accuracy = model.evaluate(x_test,y_test)\n",
    "\n",
    "print('test loss',loss)\n",
    "print('test accuracy',accuracy)"
   ]
  },
  {
   "cell_type": "code",
   "execution_count": 1,
   "metadata": {},
   "outputs": [],
   "source": [
    "import numpy as np\n",
    "from keras.datasets import mnist\n",
    "from keras.utils import np_utils\n",
    "from keras.models import Sequential\n",
    "from keras.layers import Dense\n",
    "from keras.layers.recurrent import SimpleRNN\n",
    "from keras.optimizers import Adam"
   ]
  },
  {
   "cell_type": "code",
   "execution_count": 10,
   "metadata": {},
   "outputs": [
    {
     "name": "stdout",
     "output_type": "stream",
     "text": [
      "Epoch 1/10\n",
      "938/938 [==============================] - 3s 3ms/step - loss: 1.9117 - accuracy: 0.3366\n",
      "Epoch 2/10\n",
      "938/938 [==============================] - 2s 2ms/step - loss: 0.9891 - accuracy: 0.7013\n",
      "Epoch 3/10\n",
      "938/938 [==============================] - 2s 2ms/step - loss: 0.7653 - accuracy: 0.7637\n",
      "Epoch 4/10\n",
      "938/938 [==============================] - 2s 2ms/step - loss: 0.6540 - accuracy: 0.8014\n",
      "Epoch 5/10\n",
      "938/938 [==============================] - 2s 2ms/step - loss: 0.5878 - accuracy: 0.8205\n",
      "Epoch 6/10\n",
      "938/938 [==============================] - 2s 3ms/step - loss: 0.5358 - accuracy: 0.8386\n",
      "Epoch 7/10\n",
      "938/938 [==============================] - 2s 2ms/step - loss: 0.4954 - accuracy: 0.8529\n",
      "Epoch 8/10\n",
      "938/938 [==============================] - 2s 2ms/step - loss: 0.4632 - accuracy: 0.8620\n",
      "Epoch 9/10\n",
      "938/938 [==============================] - 2s 2ms/step - loss: 0.4319 - accuracy: 0.8721\n",
      "Epoch 10/10\n",
      "938/938 [==============================] - 2s 3ms/step - loss: 0.4035 - accuracy: 0.8839\n",
      "313/313 [==============================] - 0s 1ms/step - loss: 0.4034 - accuracy: 0.8849\n",
      "test loss 0.40336042642593384\n",
      "test accuracy 0.8848999738693237\n"
     ]
    }
   ],
   "source": [
    "# 数据长度一行有28个像素\n",
    "input_size = 28\n",
    "# 序列长度一共有28行\n",
    "time_steps = 28\n",
    "# 隐藏层cell个数\n",
    "cell_size = 50\n",
    "\n",
    "# 载入数据\n",
    "(x_train,y_train),(x_test,y_test) = mnist.load_data(\"C:\\ProgramData\\Anaconda3\\envs\\OpenCv\\Lib\\site-packages\\keras\\datasets\\mnist.npz\")\n",
    "# (60000,28,28)->(60000,28,28,1)\n",
    "x_train = x_train/255.0\n",
    "x_test = x_test/255.0\n",
    "# 换one hot 格式\n",
    "y_train = np_utils.to_categorical(y_train,num_classes=10)\n",
    "y_test = np_utils.to_categorical(y_test,num_classes=10)\n",
    "\n",
    "#定义顺序模型\n",
    "model = Sequential()\n",
    "\n",
    "# 循环神经网络\n",
    "model.add(SimpleRNN(units=cell_size,input_shape = (time_steps,input_size)))\n",
    "\n",
    "#输出层\n",
    "model.add(Dense(10,activation = 'softmax'))\n",
    "\n",
    "#定义优化器\n",
    "adam = Adam(lr=1e-4)\n",
    "\n",
    "#定义优化器，loss functionm,训练过程中计算准确率\n",
    "model.compile(optimizer = adam,loss='categorical_crossentropy',metrics= ['accuracy'])\n",
    "\n",
    "#训练模型\n",
    "model.fit(x_train,y_train,batch_size=64,epochs=10)\n",
    "\n",
    "#评估模型、\n",
    "loss,accuracy=model.evaluate(x_test,y_test)\n",
    "\n",
    "print('test loss',loss)\n",
    "print('test accuracy',accuracy)"
   ]
  },
  {
   "cell_type": "code",
   "execution_count": null,
   "metadata": {},
   "outputs": [],
   "source": []
  }
 ],
 "metadata": {
  "kernelspec": {
   "display_name": "Python [conda env:opencv]",
   "language": "python",
   "name": "conda-env-opencv-py"
  },
  "language_info": {
   "codemirror_mode": {
    "name": "ipython",
    "version": 3
   },
   "file_extension": ".py",
   "mimetype": "text/x-python",
   "name": "python",
   "nbconvert_exporter": "python",
   "pygments_lexer": "ipython3",
   "version": "3.6.12"
  }
 },
 "nbformat": 4,
 "nbformat_minor": 2
}
