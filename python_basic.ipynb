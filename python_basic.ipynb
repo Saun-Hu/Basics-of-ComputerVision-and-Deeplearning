{
 "cells": [
  {
   "cell_type": "code",
   "execution_count": 1,
   "id": "cleared-cassette",
   "metadata": {},
   "outputs": [],
   "source": [
    "def text(x):\n",
    "    if x>10:\n",
    "        return\n",
    "    else:\n",
    "        return 100,1,1"
   ]
  },
  {
   "cell_type": "code",
   "execution_count": 5,
   "id": "numerical-copying",
   "metadata": {},
   "outputs": [
    {
     "name": "stdout",
     "output_type": "stream",
     "text": [
      "(100, 1, 1)\n",
      "ok\n"
     ]
    }
   ],
   "source": [
    "res = text(5)\n",
    "if res:\n",
    "    print(res)\n",
    "    print('ok')\n",
    "else:\n",
    "    print(res)\n",
    "    print('ng')"
   ]
  },
  {
   "cell_type": "code",
   "execution_count": 1,
   "id": "suitable-estate",
   "metadata": {},
   "outputs": [],
   "source": [
    "def _odd_iter():\n",
    "    n=1\n",
    "    while n<10:\n",
    "        n = n +2\n",
    "        yield n\n",
    "a = _odd_iter()"
   ]
  },
  {
   "cell_type": "code",
   "execution_count": 3,
   "id": "refined-consciousness",
   "metadata": {},
   "outputs": [
    {
     "data": {
      "text/plain": [
       "5"
      ]
     },
     "execution_count": 3,
     "metadata": {},
     "output_type": "execute_result"
    }
   ],
   "source": [
    "next(a)"
   ]
  },
  {
   "cell_type": "code",
   "execution_count": 28,
   "id": "connected-course",
   "metadata": {},
   "outputs": [],
   "source": [
    "# 默认参数\n",
    "def add_end(L=[]): \n",
    "    L.append('END') \n",
    "    return L"
   ]
  },
  {
   "cell_type": "code",
   "execution_count": 33,
   "id": "fewer-latest",
   "metadata": {},
   "outputs": [
    {
     "name": "stdout",
     "output_type": "stream",
     "text": [
      "['END', 'END', 'END', 'END', 'END']\n"
     ]
    }
   ],
   "source": [
    "A = add_end()\n",
    "print(A)"
   ]
  },
  {
   "cell_type": "markdown",
   "id": "earlier-strength",
   "metadata": {},
   "source": [
    "# 函数参数"
   ]
  },
  {
   "cell_type": "markdown",
   "id": "binary-objective",
   "metadata": {},
   "source": [
    "<html>\n",
    "    <body>\n",
    "        <ol>\n",
    "            <li><strong>位置参数：</strong>传入的值按照位置顺序依次赋值 </li>\n",
    "            <li><strong>默认参数：</strong>在必选参数后边，能降低调用函数的难度 </li>\n",
    "            <li>多个默认参数时，调用的时候，既可以按顺序提供默认参数，也可以不按顺序提供部分默认参数（把参数名写上） </li>\n",
    "            <li>在定义函数的时候，默认参数的值就被计算出来了，默认参数必须指向不变对象 </li>\n",
    "            <li><strong>可变参数：</strong>传入的参数个数是可变的 </li>\n",
    "            <li><strong>关键字参数：</strong>允许你传入0个或任意个含参数名的参数，这些关键字参数在函数内部自动组装为一个dic </li>\n",
    "            <li>命名关键字参数：限制关键字参数的名字 </li>\n",
    "            <li>如果命名关键字参数有默认值，则可不传入该参数，否则必须传入 </li>\n",
    "        </ol>\n",
    "    </body>\n",
    "</html>"
   ]
  },
  {
   "cell_type": "code",
   "execution_count": 7,
   "id": "efficient-smell",
   "metadata": {},
   "outputs": [],
   "source": [
    "def calc(*numbers): \n",
    "    sum = 0 \n",
    "    for n in numbers: \n",
    "        sum = sum + n * n \n",
    "    return sum"
   ]
  },
  {
   "cell_type": "code",
   "execution_count": 8,
   "id": "legitimate-emergency",
   "metadata": {},
   "outputs": [
    {
     "data": {
      "text/plain": [
       "84"
      ]
     },
     "execution_count": 8,
     "metadata": {},
     "output_type": "execute_result"
    }
   ],
   "source": [
    "# 可变参数\n",
    "nums = [1,3,5,7]\n",
    "calc(*nums)"
   ]
  },
  {
   "cell_type": "code",
   "execution_count": 10,
   "id": "injured-stadium",
   "metadata": {},
   "outputs": [],
   "source": [
    "def person(name,age,**kw):\n",
    "    print('name:',name,'age:',age,'other:',kw)"
   ]
  },
  {
   "cell_type": "code",
   "execution_count": 11,
   "id": "affiliated-master",
   "metadata": {},
   "outputs": [
    {
     "name": "stdout",
     "output_type": "stream",
     "text": [
      "name: Airy age: 15 other: {}\n"
     ]
    }
   ],
   "source": [
    "person('Airy',15)"
   ]
  },
  {
   "cell_type": "code",
   "execution_count": 12,
   "id": "external-gambling",
   "metadata": {},
   "outputs": [
    {
     "name": "stdout",
     "output_type": "stream",
     "text": [
      "name: Airy age: 15 other: {'tephone': '119', 'phone': '43633321'}\n"
     ]
    }
   ],
   "source": [
    "#关键字参数\n",
    "person('Airy',15,tephone='119',phone = '43633321')"
   ]
  },
  {
   "cell_type": "code",
   "execution_count": 13,
   "id": "humanitarian-coach",
   "metadata": {},
   "outputs": [
    {
     "name": "stdout",
     "output_type": "stream",
     "text": [
      "Airy 15 2 2\n"
     ]
    }
   ],
   "source": [
    "# 命名关键字参数\n",
    "def person(name, age, *, city='1', job = '2'): \n",
    "    print(name, age, city, job)\n",
    "person('Airy',15,city = '2')"
   ]
  },
  {
   "cell_type": "markdown",
   "id": "supposed-surveillance",
   "metadata": {},
   "source": [
    "# 递归函数"
   ]
  },
  {
   "cell_type": "markdown",
   "id": "acoustic-priest",
   "metadata": {},
   "source": [
    "<html>\n",
    "    <body>\n",
    "        <p>如果一个函数在<strong>内部调用自身本身</strong>，这个函数就是递归函数</p>\n",
    "    </body>\n",
    "</html>"
   ]
  },
  {
   "cell_type": "code",
   "execution_count": 40,
   "id": "united-testing",
   "metadata": {},
   "outputs": [],
   "source": [
    "# eg1:计算阶乘n!\n",
    "def fact(n):\n",
    "    if n == 1:\n",
    "        return 1\n",
    "    return fact(n-1)*n"
   ]
  },
  {
   "cell_type": "code",
   "execution_count": 41,
   "id": "circular-merchant",
   "metadata": {},
   "outputs": [
    {
     "data": {
      "text/plain": [
       "120"
      ]
     },
     "execution_count": 41,
     "metadata": {},
     "output_type": "execute_result"
    }
   ],
   "source": [
    "fact(5)"
   ]
  },
  {
   "cell_type": "markdown",
   "id": "female-olive",
   "metadata": {},
   "source": [
    "<html>\n",
    "    <body>\n",
    "        <ol>\n",
    "            <li>递归函数的优点是<strong>定义简单，逻辑清晰</strong> </li>\n",
    "            <li>理论上所有的递归函数都可以写成循环的方式，但循环的逻辑不如递归清晰 </li>\n",
    "            <li>使用递归函数需要注意<strong>防止栈溢出</strong> </li>\n",
    "        </ol>\n",
    "    </body>\n",
    "</html>"
   ]
  },
  {
   "cell_type": "code",
   "execution_count": 42,
   "id": "still-emperor",
   "metadata": {},
   "outputs": [
    {
     "ename": "RecursionError",
     "evalue": "maximum recursion depth exceeded in comparison",
     "output_type": "error",
     "traceback": [
      "\u001b[1;31m---------------------------------------------------------------------------\u001b[0m",
      "\u001b[1;31mRecursionError\u001b[0m                            Traceback (most recent call last)",
      "\u001b[1;32m<ipython-input-42-3d3e8654ce15>\u001b[0m in \u001b[0;36m<module>\u001b[1;34m\u001b[0m\n\u001b[1;32m----> 1\u001b[1;33m \u001b[0mfact\u001b[0m\u001b[1;33m(\u001b[0m\u001b[1;36m155555\u001b[0m\u001b[1;33m)\u001b[0m\u001b[1;33m\u001b[0m\u001b[1;33m\u001b[0m\u001b[0m\n\u001b[0m",
      "\u001b[1;32m<ipython-input-40-be7d7b920eae>\u001b[0m in \u001b[0;36mfact\u001b[1;34m(n)\u001b[0m\n\u001b[0;32m      3\u001b[0m     \u001b[1;32mif\u001b[0m \u001b[0mn\u001b[0m \u001b[1;33m==\u001b[0m \u001b[1;36m1\u001b[0m\u001b[1;33m:\u001b[0m\u001b[1;33m\u001b[0m\u001b[1;33m\u001b[0m\u001b[0m\n\u001b[0;32m      4\u001b[0m         \u001b[1;32mreturn\u001b[0m \u001b[1;36m1\u001b[0m\u001b[1;33m\u001b[0m\u001b[1;33m\u001b[0m\u001b[0m\n\u001b[1;32m----> 5\u001b[1;33m     \u001b[1;32mreturn\u001b[0m \u001b[0mfact\u001b[0m\u001b[1;33m(\u001b[0m\u001b[0mn\u001b[0m\u001b[1;33m-\u001b[0m\u001b[1;36m1\u001b[0m\u001b[1;33m)\u001b[0m\u001b[1;33m*\u001b[0m\u001b[0mn\u001b[0m\u001b[1;33m\u001b[0m\u001b[1;33m\u001b[0m\u001b[0m\n\u001b[0m",
      "... last 1 frames repeated, from the frame below ...\n",
      "\u001b[1;32m<ipython-input-40-be7d7b920eae>\u001b[0m in \u001b[0;36mfact\u001b[1;34m(n)\u001b[0m\n\u001b[0;32m      3\u001b[0m     \u001b[1;32mif\u001b[0m \u001b[0mn\u001b[0m \u001b[1;33m==\u001b[0m \u001b[1;36m1\u001b[0m\u001b[1;33m:\u001b[0m\u001b[1;33m\u001b[0m\u001b[1;33m\u001b[0m\u001b[0m\n\u001b[0;32m      4\u001b[0m         \u001b[1;32mreturn\u001b[0m \u001b[1;36m1\u001b[0m\u001b[1;33m\u001b[0m\u001b[1;33m\u001b[0m\u001b[0m\n\u001b[1;32m----> 5\u001b[1;33m     \u001b[1;32mreturn\u001b[0m \u001b[0mfact\u001b[0m\u001b[1;33m(\u001b[0m\u001b[0mn\u001b[0m\u001b[1;33m-\u001b[0m\u001b[1;36m1\u001b[0m\u001b[1;33m)\u001b[0m\u001b[1;33m*\u001b[0m\u001b[0mn\u001b[0m\u001b[1;33m\u001b[0m\u001b[1;33m\u001b[0m\u001b[0m\n\u001b[0m",
      "\u001b[1;31mRecursionError\u001b[0m: maximum recursion depth exceeded in comparison"
     ]
    }
   ],
   "source": [
    "fact(155555)"
   ]
  },
  {
   "cell_type": "markdown",
   "id": "cardiovascular-courage",
   "metadata": {},
   "source": [
    "<html>\n",
    "    <body>\n",
    "        <ol>\n",
    "            <li>函数调用时通过栈这种数据结构实现的，每当进入一个函数调用，栈就会<strong>加一层栈帧</strong>，每当函数返回，栈就会<strong>减少一层栈帧</strong>。由于栈的大小不是无限的，所以，递归调用的次数过多，就会导致栈溢出 </li>\n",
    "            <li>解决递归调用栈溢出的方法是通过<strong>尾递归优化</strong>。尾递归是指，在函数返回的时候，调用自身本身，并且，return语句不能包含表达式。使递归本身无论调用多少次，都只占用一个栈帧，不会出现栈溢出的情况</li>\n",
    "        </ol>\n",
    "    </body>\n",
    "</html>\n",
    "\n"
   ]
  },
  {
   "cell_type": "code",
   "execution_count": 43,
   "id": "outside-director",
   "metadata": {},
   "outputs": [],
   "source": [
    "def fact(n):\n",
    "    return fact_iter(n,1)\n",
    "\n",
    "def fact_iter(num,product):\n",
    "    if num ==1:\n",
    "        return product\n",
    "    return fact_iter(num-1,num*product)"
   ]
  },
  {
   "cell_type": "markdown",
   "id": "atomic-blackjack",
   "metadata": {},
   "source": [
    "# 迭代"
   ]
  },
  {
   "cell_type": "markdown",
   "id": "perceived-template",
   "metadata": {},
   "source": [
    "如果给定一个list或tuple,我们可以通过for循环来遍历这个list或tuple,这种遍历我们称为迭代（iteration）"
   ]
  },
  {
   "cell_type": "markdown",
   "id": "built-locator",
   "metadata": {},
   "source": [
    "只要是可迭代对象，无论有无下标，都可迭代"
   ]
  },
  {
   "cell_type": "markdown",
   "id": "major-pencil",
   "metadata": {},
   "source": [
    "## 生成器"
   ]
  },
  {
   "cell_type": "markdown",
   "id": "vertical-public",
   "metadata": {},
   "source": [
    "一边循环，一边计算"
   ]
  },
  {
   "cell_type": "markdown",
   "id": "requested-productivity",
   "metadata": {},
   "source": [
    "generator保存的是算法，每次调用next(),就计算出下一个元素的值，直到计算到最后一个元素，没有更多的元素时，抛出StopIteration的错误"
   ]
  },
  {
   "cell_type": "code",
   "execution_count": 44,
   "id": "organic-shuttle",
   "metadata": {},
   "outputs": [
    {
     "name": "stdout",
     "output_type": "stream",
     "text": [
      "[0, 1, 4, 9, 16, 25, 36, 49, 64, 81]\n"
     ]
    }
   ],
   "source": [
    "# 列表生成式\n",
    "L = [x*x for x in range(10)]\n",
    "print(L)"
   ]
  },
  {
   "cell_type": "code",
   "execution_count": 45,
   "id": "contrary-norwegian",
   "metadata": {},
   "outputs": [
    {
     "name": "stdout",
     "output_type": "stream",
     "text": [
      "<generator object <genexpr> at 0x000001F7D1F06410>\n"
     ]
    }
   ],
   "source": [
    "# 生成器\n",
    "G = (x*x for x in range(10))\n",
    "print(G)"
   ]
  },
  {
   "cell_type": "code",
   "execution_count": 50,
   "id": "front-sterling",
   "metadata": {},
   "outputs": [
    {
     "name": "stdout",
     "output_type": "stream",
     "text": [
      "16\n"
     ]
    }
   ],
   "source": [
    "print(next(G))"
   ]
  },
  {
   "cell_type": "code",
   "execution_count": 51,
   "id": "supposed-suite",
   "metadata": {},
   "outputs": [],
   "source": [
    "# 斐波拉契数列生成式\n",
    "def fib(maxnumber):\n",
    "    n,a,b=0,0,1\n",
    "    while n <maxnumber:\n",
    "        print(b)\n",
    "        a,b = b,a+b\n",
    "        n = n +1\n",
    "    return 'Done!'"
   ]
  },
  {
   "cell_type": "code",
   "execution_count": 52,
   "id": "eastern-founder",
   "metadata": {},
   "outputs": [],
   "source": [
    "# 用迭代器生\n",
    "def fib_2(maxx):\n",
    "    n,a,b=0,0,1\n",
    "    while n < maxx:\n",
    "        yield b\n",
    "        a,b = b,a+b\n",
    "        n = n+1\n",
    "    return 'Done!'"
   ]
  },
  {
   "cell_type": "code",
   "execution_count": 53,
   "id": "therapeutic-testing",
   "metadata": {},
   "outputs": [
    {
     "name": "stdout",
     "output_type": "stream",
     "text": [
      "g: 1\n",
      "g: 1\n",
      "g: 2\n",
      "g: 3\n",
      "g: 5\n",
      "g: 8\n",
      "Generator result value: Done!\n"
     ]
    }
   ],
   "source": [
    "f = fib_2(6)\n",
    "while True:\n",
    "    try:\n",
    "        x = next(f)\n",
    "        print('g:',x)\n",
    "    except StopIteration as e:\n",
    "        print('Generator result value:',e.value)\n",
    "        break"
   ]
  },
  {
   "cell_type": "code",
   "execution_count": null,
   "id": "frequent-stake",
   "metadata": {},
   "outputs": [],
   "source": [
    "# 利用generator生成杨辉三角\n",
    "def triangles():\n",
    "    n = 0 \n",
    "    for t in triangles():\n",
    "        print(t)\n",
    "        n =n +1\n",
    "        if n ==10:\n",
    "            break"
   ]
  },
  {
   "cell_type": "code",
   "execution_count": null,
   "id": "aware-asian",
   "metadata": {},
   "outputs": [],
   "source": [
    "triangles()"
   ]
  },
  {
   "cell_type": "markdown",
   "id": "thick-moral",
   "metadata": {},
   "source": [
    "# 迭代器"
   ]
  },
  {
   "cell_type": "markdown",
   "id": "beginning-bullet",
   "metadata": {},
   "source": [
    "可以直接作用于for循环的对象统称为可迭代对象：Iterable"
   ]
  },
  {
   "cell_type": "markdown",
   "id": "advanced-archive",
   "metadata": {},
   "source": [
    "可以被next()函数调用并不断返回下一个值的对象称为迭代器：Iterator"
   ]
  },
  {
   "cell_type": "markdown",
   "id": "inclusive-asset",
   "metadata": {},
   "source": [
    "把list、dict、str等iterable变成Iterator可以使用iter()函数"
   ]
  },
  {
   "cell_type": "markdown",
   "id": "veterinary-youth",
   "metadata": {},
   "source": [
    "Iterator可以表示一个无限大的数据流，例如全体自然数。而使用list是永远不可能存储全体自然数的"
   ]
  },
  {
   "cell_type": "markdown",
   "id": "desirable-mixture",
   "metadata": {},
   "source": [
    "# Map/Reduce"
   ]
  },
  {
   "cell_type": "markdown",
   "id": "relevant-aviation",
   "metadata": {},
   "source": [
    "map函数接收两个参数，一个是函数，另一个是iterable,map将传入的函数依次作用到序列的每个元素，并把结果作为新的iterator返回"
   ]
  },
  {
   "cell_type": "code",
   "execution_count": 54,
   "id": "continental-violation",
   "metadata": {},
   "outputs": [],
   "source": [
    "def F(x):\n",
    "    return int(x)*int(x)\n",
    "\n",
    "a_list = ['1','2','3','4','5','7']\n",
    "r = map(F,a_list)\n",
    "#print(next(r))"
   ]
  },
  {
   "cell_type": "code",
   "execution_count": 55,
   "id": "western-laundry",
   "metadata": {},
   "outputs": [
    {
     "name": "stdout",
     "output_type": "stream",
     "text": [
      "[1, 4, 9, 16, 25, 49]\n",
      "1\n"
     ]
    }
   ],
   "source": [
    "s = list(r)\n",
    "print(s)\n",
    "print(s[0])"
   ]
  },
  {
   "cell_type": "markdown",
   "id": "prepared-chemical",
   "metadata": {},
   "source": [
    "reduce 把一个函数作用在一个序列上，这个函数必须接收两个参数，reduce把结果继续和序列的下一个元素做累积计算"
   ]
  },
  {
   "cell_type": "code",
   "execution_count": 56,
   "id": "christian-privacy",
   "metadata": {},
   "outputs": [
    {
     "data": {
      "text/plain": [
       "13579"
      ]
     },
     "execution_count": 56,
     "metadata": {},
     "output_type": "execute_result"
    }
   ],
   "source": [
    "from functools import reduce\n",
    "\n",
    "def add(x,y):\n",
    "    return str(x)+str(y)\n",
    "\n",
    "b_list =[1,3,5,7,9]\n",
    "int(reduce(add,b_list))"
   ]
  },
  {
   "cell_type": "markdown",
   "id": "revolutionary-renewal",
   "metadata": {},
   "source": [
    "# filter"
   ]
  },
  {
   "cell_type": "markdown",
   "id": "tired-obligation",
   "metadata": {},
   "source": [
    "用于过滤序列"
   ]
  },
  {
   "cell_type": "markdown",
   "id": "passing-cleaner",
   "metadata": {},
   "source": [
    "filter 也接收一个函数和一个序列，filter()把传入的函数依次作用于每个元素，然后根据返回值是True还是False决定是否保留还是丢弃该元素"
   ]
  },
  {
   "cell_type": "code",
   "execution_count": 58,
   "id": "ruled-romance",
   "metadata": {},
   "outputs": [
    {
     "data": {
      "text/plain": [
       "[2, 4, 8, 134, 122]"
      ]
     },
     "execution_count": 58,
     "metadata": {},
     "output_type": "execute_result"
    }
   ],
   "source": [
    "def is_odd(n):\n",
    "    return n%2==0\n",
    "\n",
    "c_list = [1,2,3,4,7,8,9,15,21,134,122,1711]\n",
    "list(filter(is_odd,c_list))"
   ]
  },
  {
   "cell_type": "code",
   "execution_count": 59,
   "id": "driving-hindu",
   "metadata": {},
   "outputs": [
    {
     "data": {
      "text/plain": [
       "['A', 'B', 'C']"
      ]
     },
     "execution_count": 59,
     "metadata": {},
     "output_type": "execute_result"
    }
   ],
   "source": [
    "def not_empty(s):\n",
    "    return s and s.strip()\n",
    "d_list = ['A','','B',None,False,'C','  ']\n",
    "list(filter(not_empty,d_list))"
   ]
  },
  {
   "cell_type": "code",
   "execution_count": 62,
   "id": "hidden-cricket",
   "metadata": {},
   "outputs": [],
   "source": [
    "c = None\n",
    "c and c.strip()"
   ]
  },
  {
   "cell_type": "markdown",
   "id": "applicable-physics",
   "metadata": {},
   "source": [
    "# sorted"
   ]
  },
  {
   "cell_type": "markdown",
   "id": "related-business",
   "metadata": {},
   "source": [
    "sorted是一个高阶函数，它还可以接收一个key函数来实现自定义的排序，例如按照绝对值大小排序"
   ]
  },
  {
   "cell_type": "code",
   "execution_count": 63,
   "id": "appropriate-chancellor",
   "metadata": {},
   "outputs": [
    {
     "data": {
      "text/plain": [
       "[5, 36, -454, 455, 1543, 4643, -15445]"
      ]
     },
     "execution_count": 63,
     "metadata": {},
     "output_type": "execute_result"
    }
   ],
   "source": [
    "sorted([36,5,455,-454,-15445,1543,4643],key = abs)"
   ]
  },
  {
   "cell_type": "markdown",
   "id": "thermal-retention",
   "metadata": {},
   "source": [
    "默认情况下，对字符串排序，是按照ASCII的大小比较的"
   ]
  },
  {
   "cell_type": "code",
   "execution_count": 67,
   "id": "noble-nothing",
   "metadata": {
    "scrolled": true
   },
   "outputs": [
    {
     "data": {
      "text/plain": [
       "['Credit', 'Ebout', 'rob', 'Zoom']"
      ]
     },
     "execution_count": 67,
     "metadata": {},
     "output_type": "execute_result"
    }
   ],
   "source": [
    "sorted(['rob', 'Ebout', 'Zoom', 'Credit'], key=str.lower)"
   ]
  },
  {
   "cell_type": "markdown",
   "id": "artistic-bahrain",
   "metadata": {},
   "source": [
    "# 返回函数"
   ]
  },
  {
   "cell_type": "markdown",
   "id": "surface-street",
   "metadata": {},
   "source": [
    "高阶函数除了可以接收函数作为参数外，还可以把函数作为结果值返回"
   ]
  },
  {
   "cell_type": "markdown",
   "id": "celtic-ending",
   "metadata": {},
   "source": [
    "# 偏函数"
   ]
  },
  {
   "cell_type": "markdown",
   "id": "interpreted-digest",
   "metadata": {},
   "source": [
    "偏函数通过设定参数的默认值，可以降低函数调用的难度"
   ]
  },
  {
   "cell_type": "markdown",
   "id": "sought-symphony",
   "metadata": {},
   "source": [
    "把函数的某些参数固定住(也就是设置默认值)，返回一个新的函数，调用这个新函数会更简单"
   ]
  },
  {
   "cell_type": "code",
   "execution_count": 68,
   "id": "worse-blackjack",
   "metadata": {},
   "outputs": [
    {
     "data": {
      "text/plain": [
       "1110100"
      ]
     },
     "execution_count": 68,
     "metadata": {},
     "output_type": "execute_result"
    }
   ],
   "source": [
    "int('1110100')"
   ]
  },
  {
   "cell_type": "code",
   "execution_count": 69,
   "id": "acoustic-quality",
   "metadata": {},
   "outputs": [
    {
     "data": {
      "text/plain": [
       "64"
      ]
     },
     "execution_count": 69,
     "metadata": {},
     "output_type": "execute_result"
    }
   ],
   "source": [
    "import functools\n",
    "int2 = functools.partial(int,base=2)\n",
    "int2('1000000')"
   ]
  },
  {
   "cell_type": "markdown",
   "id": "integrated-complex",
   "metadata": {},
   "source": [
    "# 面向对象编程"
   ]
  },
  {
   "cell_type": "markdown",
   "id": "official-coast",
   "metadata": {},
   "source": [
    "OOP把对象作为程序的基本单元，一个对象包含了数据和操作数据的函数 "
   ]
  },
  {
   "cell_type": "markdown",
   "id": "sticky-association",
   "metadata": {},
   "source": [
    "面向对象最重要的概念是类（class）和实例（Instance）,必须牢记类是抽象的模板，比如Student类，而实例是根据类创建出来的一个个具体的'对象'，每个对象都拥有相同的方法，但各自的数据可能不同"
   ]
  },
  {
   "cell_type": "markdown",
   "id": "economic-guidance",
   "metadata": {},
   "source": [
    "当我们定义一个class的时候，我们实际上就定义了一种数据类型。我们定义的数据类型和Python自带的数据类型没什么两样"
   ]
  },
  {
   "cell_type": "markdown",
   "id": "competent-ladder",
   "metadata": {},
   "source": [
    "数据封装、继承和多态是面向对象的三大特点。"
   ]
  },
  {
   "cell_type": "code",
   "execution_count": null,
   "id": "played-evening",
   "metadata": {},
   "outputs": [],
   "source": [
    "class Student(object):\n",
    "    def __init__(self,name,score):\n",
    "        self.name = name\n",
    "        self.score = score\n",
    "        \n",
    "    def print_score(self):\n",
    "        print('%s:%s'%(self.name,self.score))"
   ]
  },
  {
   "cell_type": "code",
   "execution_count": null,
   "id": "excited-paris",
   "metadata": {},
   "outputs": [],
   "source": [
    "bart = Student('Bart Simpson','56')\n",
    "bart.print_score()"
   ]
  },
  {
   "cell_type": "markdown",
   "id": "sunset-india",
   "metadata": {},
   "source": [
    "从外部看Student类，只需要知道，创建实例需要给出name和score，而如何打印，都是在Student类的内部定义的，这些数据和逻辑被封装起来了，调用很容易，但却不用知道内部实现的细节"
   ]
  },
  {
   "cell_type": "markdown",
   "id": "posted-aaron",
   "metadata": {},
   "source": [
    "和静态语言不同，Python允许对实例变量绑定任何数据，也就是说，对于两个实例变量，虽然它们都是同一个类的不同实例，但拥有的变量名称都可能不同"
   ]
  },
  {
   "cell_type": "markdown",
   "id": "spread-terminology",
   "metadata": {},
   "source": [
    "# 访问限制"
   ]
  },
  {
   "cell_type": "markdown",
   "id": "urban-caution",
   "metadata": {},
   "source": [
    "\n",
    "<html>\n",
    "    <body>\n",
    "        <p>如果要让内部属性不被外部访问，可以把属性的名称前加上两个下划线__,实例的变量名如果以__开头，就变成了一个私有变量（private）,只有内部可以访问，外部不能访问</p>\n",
    "    </body>\n",
    "</html>"
   ]
  },
  {
   "cell_type": "code",
   "execution_count": null,
   "id": "unlikely-pilot",
   "metadata": {},
   "outputs": [],
   "source": [
    "class Student(object): \n",
    "    def __init__(self, name, score): \n",
    "        self.name = name \n",
    "        self.score = score\n",
    "    def print_score(self): \n",
    "        print('%s: %s' % (self.name, self.score))"
   ]
  },
  {
   "cell_type": "code",
   "execution_count": null,
   "id": "objective-calculator",
   "metadata": {},
   "outputs": [],
   "source": [
    "a= Student('saun',97)\n",
    "a.print_score()\n",
    "print(a.score)"
   ]
  },
  {
   "cell_type": "markdown",
   "id": "intimate-playlist",
   "metadata": {},
   "source": [
    "确保了外部代码不能随意修改对象内部的状态，通过访问限制的保护，代码更加健壮"
   ]
  },
  {
   "cell_type": "markdown",
   "id": "reliable-endorsement",
   "metadata": {},
   "source": [
    "<html>\n",
    "    <body>\n",
    "        <p>\n",
    "        变量名类似__xxx__的，也就是以双下划线开头，并且以双下划线结尾的，是特殊变量，特殊变量是可以直接访问的，不是Private变量。\n",
    "        </p>\n",
    "    </body>\n",
    "</html>"
   ]
  },
  {
   "cell_type": "markdown",
   "id": "rubber-emphasis",
   "metadata": {},
   "source": [
    "有些时候，你会看到以一个下划线开头的实例变量名，比如_name,这样的实例变量外部是可以访问的，但是，按照约定俗成的规定，当你看到这样的变量，意思就是，“虽然我可以被访问，但是请把我视为私有变量，不要随意访问”"
   ]
  },
  {
   "cell_type": "markdown",
   "id": "purple-latino",
   "metadata": {},
   "source": [
    "# 继承和多态"
   ]
  },
  {
   "cell_type": "markdown",
   "id": "removable-contrary",
   "metadata": {},
   "source": [
    "<html>\n",
    "    <body>\n",
    "        <p>当我们定义一个class的时候，可以从某个现有的class继承，新的class成为子类（subclass），而被继承的class成为基类、父类或超类</p>\n",
    "    </body>\n",
    "</html>"
   ]
  },
  {
   "cell_type": "code",
   "execution_count": 70,
   "id": "subsequent-training",
   "metadata": {},
   "outputs": [],
   "source": [
    "# 先定义一个类\n",
    "class Animal(object):\n",
    "    def run(self):\n",
    "        print('It is running faster more than humans')"
   ]
  },
  {
   "cell_type": "code",
   "execution_count": 71,
   "id": "satellite-muslim",
   "metadata": {},
   "outputs": [],
   "source": [
    "class Dog(Animal):\n",
    "    def run(self):\n",
    "        print('the dog runs away')\n",
    "\n",
    "class Cat(Animal):\n",
    "    pass"
   ]
  },
  {
   "cell_type": "code",
   "execution_count": 72,
   "id": "intelligent-courtesy",
   "metadata": {},
   "outputs": [
    {
     "name": "stdout",
     "output_type": "stream",
     "text": [
      "the dog runs away\n"
     ]
    }
   ],
   "source": [
    "doggg = Dog()\n",
    "doggg.run()"
   ]
  },
  {
   "cell_type": "code",
   "execution_count": 73,
   "id": "unknown-button",
   "metadata": {},
   "outputs": [],
   "source": [
    "# 当子类和父类都存在相同的方法时，子类的方法会覆盖父类的方法。"
   ]
  },
  {
   "cell_type": "code",
   "execution_count": 74,
   "id": "periodic-snowboard",
   "metadata": {},
   "outputs": [],
   "source": [
    "a = list()\n",
    "b = Animal()\n",
    "c = Dog()"
   ]
  },
  {
   "cell_type": "code",
   "execution_count": 75,
   "id": "accompanied-shoot",
   "metadata": {},
   "outputs": [
    {
     "name": "stdout",
     "output_type": "stream",
     "text": [
      "True\n",
      "True\n",
      "True\n"
     ]
    }
   ],
   "source": [
    "print(isinstance(a,list))\n",
    "print(isinstance(b,Animal))\n",
    "print(isinstance(c,Dog))"
   ]
  },
  {
   "cell_type": "code",
   "execution_count": 76,
   "id": "suburban-paste",
   "metadata": {},
   "outputs": [
    {
     "name": "stdout",
     "output_type": "stream",
     "text": [
      "True\n"
     ]
    }
   ],
   "source": [
    "print(isinstance(c, Animal))"
   ]
  },
  {
   "cell_type": "markdown",
   "id": "joint-judge",
   "metadata": {},
   "source": [
    "在继承关系中，如果一个实例的数据是某个子类，那它的数据类型也可以被看做是父类。"
   ]
  },
  {
   "cell_type": "code",
   "execution_count": 77,
   "id": "unexpected-spyware",
   "metadata": {},
   "outputs": [],
   "source": [
    "def run_twice(animal):\n",
    "    animal.run()"
   ]
  },
  {
   "cell_type": "code",
   "execution_count": 78,
   "id": "rocky-direction",
   "metadata": {},
   "outputs": [
    {
     "name": "stdout",
     "output_type": "stream",
     "text": [
      "the dog runs away\n"
     ]
    }
   ],
   "source": [
    "run_twice(c)"
   ]
  },
  {
   "cell_type": "markdown",
   "id": "current-sugar",
   "metadata": {},
   "source": [
    "多态：对于一个变量，我们只需要知道它是哪种类型，无需确切地知道它的子类型，就可以放心地调用它的方法，而具体调用的方法是作用在哪个对象上，由运行时该对象的确切类型决定。"
   ]
  },
  {
   "cell_type": "markdown",
   "id": "adjustable-karaoke",
   "metadata": {},
   "source": [
    "多态：调用方只管调用，不管细节"
   ]
  },
  {
   "cell_type": "code",
   "execution_count": 80,
   "id": "descending-auckland",
   "metadata": {},
   "outputs": [],
   "source": [
    "class Dog(object):\n",
    "    \n",
    "    def __init__(self,name):\n",
    "        self.name = name\n",
    "        \n",
    "    def game(self):\n",
    "        print(\"%s 蹦蹦跳跳...\"%(self.name))\n",
    "\n",
    "class XiaoTian(Dog):\n",
    "    def game(self):\n",
    "        print(\"%s飞上了天\"%(self.name))\n",
    "        \n",
    "class Person(object):\n",
    "    \n",
    "    def __init__(self,name):\n",
    "        self.name = name\n",
    "    \n",
    "    def play_with_dog(self,Dog):\n",
    "        print('%s和%s飞上了天'%(self.name,Dog.name))"
   ]
  },
  {
   "cell_type": "code",
   "execution_count": 81,
   "id": "binding-massachusetts",
   "metadata": {},
   "outputs": [
    {
     "name": "stdout",
     "output_type": "stream",
     "text": [
      "Qiang 蹦蹦跳跳...\n",
      "Ming和Cai飞上了天\n"
     ]
    }
   ],
   "source": [
    "# 让具有不同功能的函数可以使用相同的函数名，不同的子类对象调用相同的父类方法产生不同的执行结果\n",
    "qiang = Dog('Qiang')\n",
    "qiang.game()\n",
    "cai = XiaoTian('Cai')\n",
    "ming = Person('Ming')\n",
    "ming.play_with_dog(cai)"
   ]
  },
  {
   "cell_type": "markdown",
   "id": "coral-cleanup",
   "metadata": {},
   "source": [
    "开闭原则：1.对扩展开放，允许新增子类 2.对修改封闭：不需要修改依赖类型的函数"
   ]
  },
  {
   "cell_type": "markdown",
   "id": "million-surveillance",
   "metadata": {},
   "source": [
    "# 静态语言vs动态语言"
   ]
  },
  {
   "cell_type": "markdown",
   "id": "average-participation",
   "metadata": {},
   "source": [
    "<html>\n",
    "    <body>\n",
    "        <ol>\n",
    "            <li>对于静态语言(java)来说，如果要需要传入类型，则传入的对象必须是该类型或者它的子类，否则，无法调用方法</li>\n",
    "            <li>对于python这样的动态语言来说，则不一定需要传入指定类型，我们只需要<strong>保证传入的对象有该方法</strong>就可以了\n",
    "        </ol>\n",
    "    </body>\n",
    "</html>"
   ]
  },
  {
   "cell_type": "markdown",
   "id": "verified-animal",
   "metadata": {},
   "source": [
    "<html>\n",
    "    <body>\n",
    "        <header>\n",
    "         __slots__ 可以限制该Class实例能添加的属性\n",
    "        </header>\n",
    "    </body>\n",
    "</html>"
   ]
  },
  {
   "cell_type": "code",
   "execution_count": null,
   "id": "essential-serbia",
   "metadata": {},
   "outputs": [],
   "source": [
    "class Student(object):\n",
    "    __slots__=('name','age')"
   ]
  },
  {
   "cell_type": "code",
   "execution_count": null,
   "id": "accepting-criticism",
   "metadata": {},
   "outputs": [],
   "source": [
    "a = Student()\n",
    "a.name='Rose'\n",
    "a.score = 101"
   ]
  },
  {
   "cell_type": "code",
   "execution_count": null,
   "id": "acceptable-finland",
   "metadata": {},
   "outputs": [],
   "source": [
    "# __slots__ 定义的属性仅对当前实例起作用，对继承的子类是不起作用的"
   ]
  },
  {
   "cell_type": "markdown",
   "id": "quiet-cliff",
   "metadata": {},
   "source": [
    "# @property"
   ]
  },
  {
   "cell_type": "markdown",
   "id": "plastic-python",
   "metadata": {},
   "source": [
    "### Python内置的@property装饰器负责把一个方法变成属性调用"
   ]
  },
  {
   "cell_type": "code",
   "execution_count": null,
   "id": "lasting-victor",
   "metadata": {},
   "outputs": [],
   "source": [
    "class Student(object):\n",
    "    \n",
    "    @property\n",
    "    def score(self):\n",
    "        return self._score\n",
    "    \n",
    "    @score.setter\n",
    "    def score(self,value):\n",
    "        if not isinstance(value,int):\n",
    "            raise ValueError('score must be an integer!')\n",
    "        if value<0 or value>100:\n",
    "            raise ValueError('score must between 0~100')\n",
    "        self._score = value"
   ]
  },
  {
   "cell_type": "code",
   "execution_count": null,
   "id": "existing-dinner",
   "metadata": {},
   "outputs": [],
   "source": [
    "a = Student()\n",
    "a.score = 101"
   ]
  },
  {
   "cell_type": "code",
   "execution_count": null,
   "id": "quiet-height",
   "metadata": {},
   "outputs": [],
   "source": [
    "# 只定义getter方法，不定义setter方法就是一个只读属性\n",
    "# 以下的birth\n",
    "\n",
    "class People(object):\n",
    "    \n",
    "    @property\n",
    "    def birth(self):\n",
    "        return self._birth\n",
    "    \n",
    "    @birth.setter\n",
    "    def birth(self,value):\n",
    "        if not isinstance(value,int):\n",
    "            raise ValueError('birth must be an integer!')\n",
    "        if value<2000:\n",
    "            raise ValueError('score must smaller than 2000')\n",
    "        self._birth = value\n",
    "    @property\n",
    "    def age(self):\n",
    "        return 2022-self._birth"
   ]
  },
  {
   "cell_type": "code",
   "execution_count": null,
   "id": "prescription-still",
   "metadata": {},
   "outputs": [],
   "source": [
    "saun = People()\n",
    "saun.birth = 1999\n",
    "print(saun.age)"
   ]
  },
  {
   "cell_type": "markdown",
   "id": "similar-father",
   "metadata": {},
   "source": [
    "# 多重继承"
   ]
  },
  {
   "cell_type": "code",
   "execution_count": null,
   "id": "under-dating",
   "metadata": {},
   "outputs": [],
   "source": [
    "class Runable(object):\n",
    "    def run(self):\n",
    "        print('running')\n",
    "\n",
    "class Flyable(object):\n",
    "    def fly(self):\n",
    "        print('flying')"
   ]
  },
  {
   "cell_type": "code",
   "execution_count": null,
   "id": "committed-subscriber",
   "metadata": {},
   "outputs": [],
   "source": [
    "class Dog(Runable,Flyable):\n",
    "    pass"
   ]
  },
  {
   "cell_type": "code",
   "execution_count": null,
   "id": "after-syntax",
   "metadata": {},
   "outputs": [],
   "source": [
    "Tidy = Dog()\n",
    "Tidy.fly()"
   ]
  },
  {
   "cell_type": "markdown",
   "id": "fitting-explorer",
   "metadata": {},
   "source": [
    "###### 在设计类的继承关系时，通常，主线时单一继承下来的，但是如果需要混入额外的功能，通过多重继承可以实现。这种设计通常称之为MixIn"
   ]
  },
  {
   "cell_type": "markdown",
   "id": "tutorial-table",
   "metadata": {},
   "source": [
    "###### MixIn的目的就是给一个类增加多个功能，这样，在设计类的时候，我们优先考虑通过多重继承来组合多个MixIn的功能，而不是设计多层次的复杂的继承关系"
   ]
  },
  {
   "cell_type": "markdown",
   "id": "corresponding-venture",
   "metadata": {},
   "source": [
    "# 使用枚举类"
   ]
  },
  {
   "cell_type": "code",
   "execution_count": null,
   "id": "communist-freeware",
   "metadata": {},
   "outputs": [],
   "source": [
    "from enum import Enum"
   ]
  },
  {
   "cell_type": "code",
   "execution_count": null,
   "id": "administrative-archives",
   "metadata": {},
   "outputs": [],
   "source": [
    "Month = Enum('Month',('Jan','Feb','Mar','Apr','May','Jun','Jul','Aug','Sep','Oct','Nov','Dec'))"
   ]
  },
  {
   "cell_type": "code",
   "execution_count": null,
   "id": "silent-superior",
   "metadata": {},
   "outputs": [],
   "source": [
    "for name,member in Month.__members__.items():\n",
    "    print(name,'=>',member,',',member.value)"
   ]
  },
  {
   "cell_type": "code",
   "execution_count": null,
   "id": "greatest-envelope",
   "metadata": {},
   "outputs": [],
   "source": [
    "from enum import Enum,unique\n",
    "\n",
    "# @unique可以帮我们检查保证没有重复值\n",
    "\n",
    "@unique\n",
    "class Weekday(Enum):\n",
    "    Sun = 0\n",
    "    Mon = 1\n",
    "    Tue = 2\n",
    "    Wed = 3\n",
    "    Thu = 4\n",
    "    Fri = 5\n",
    "    Sat = 6"
   ]
  },
  {
   "cell_type": "code",
   "execution_count": null,
   "id": "geological-agenda",
   "metadata": {},
   "outputs": [],
   "source": [
    "day1 = Weekday.Mon\n",
    "print(day1)"
   ]
  },
  {
   "cell_type": "code",
   "execution_count": null,
   "id": "designing-sport",
   "metadata": {},
   "outputs": [],
   "source": [
    "Weekday(1)"
   ]
  },
  {
   "cell_type": "markdown",
   "id": "fatal-turning",
   "metadata": {},
   "source": [
    "##### Enum可以把一组相关常量定义在一个class中，且class不可变，而且成员可以直接比较"
   ]
  },
  {
   "cell_type": "markdown",
   "id": "verified-martin",
   "metadata": {},
   "source": [
    "# 断言"
   ]
  },
  {
   "cell_type": "markdown",
   "id": "funded-queens",
   "metadata": {},
   "source": [
    "### 凡是可以用print来辅助查看的地方，都可以用断言assert来替代"
   ]
  },
  {
   "cell_type": "code",
   "execution_count": null,
   "id": "united-prerequisite",
   "metadata": {},
   "outputs": [],
   "source": [
    "# assert的意思是，表达式结果应该是True,否则，根据程序运行的逻辑，后面的代码肯定会出错\n",
    "# 启动python解释器时可以用-o参数来关闭assert,关闭后，当成pass来看\n",
    "def foo(s):\n",
    "    n=int(s)\n",
    "    assert n!=0,'n is zero'\n",
    "    return 10/n\n",
    "\n",
    "foo('1')"
   ]
  },
  {
   "cell_type": "markdown",
   "id": "above-satisfaction",
   "metadata": {},
   "source": [
    "# 多进程"
   ]
  },
  {
   "cell_type": "code",
   "execution_count": null,
   "id": "rising-spread",
   "metadata": {},
   "outputs": [],
   "source": [
    "# 创建子进程时，只需要传入一个执行函数和函数的参数，创建一个Process实例，用start()方法启动。"
   ]
  },
  {
   "cell_type": "code",
   "execution_count": null,
   "id": "fitted-flesh",
   "metadata": {},
   "outputs": [],
   "source": [
    "from multiprocessing import Process\n",
    "import os\n",
    "\n",
    "def run_proc(name):\n",
    "    print('Run child process %s (%s)...'%(name,os.getpid()))\n",
    "\n",
    "if __name__ == '__main__':\n",
    "    print('Parent process %s.'%os.getpid())\n",
    "    #p = Process(target = run_proc,args = ('test',))\n",
    "    p = Process(target = run_proc('test'))\n",
    "    print('Child process will start.')\n",
    "    p.start()\n",
    "    p.join()\n",
    "    print('Child process end.')"
   ]
  },
  {
   "cell_type": "code",
   "execution_count": null,
   "id": "improved-directive",
   "metadata": {},
   "outputs": [],
   "source": [
    "# 如果要启动大量的子进程，可以用进程池的方式批量创建子进程"
   ]
  },
  {
   "cell_type": "code",
   "execution_count": null,
   "id": "seventh-northern",
   "metadata": {},
   "outputs": [],
   "source": [
    "from multiprocessing import Pool\n",
    "import os,time,random\n",
    "\n",
    "def long_time_task(name):\n",
    "    print('Run task %s (%s) ...'%(name,os.getpid()))\n",
    "    start = time.time()\n",
    "    time.sleep(random.random()*3)\n",
    "    end = time.time()\n",
    "    print('Task %s run %0.2f seconds.'%(name,(end-start)))\n",
    "    \n",
    "if __name__ == '__main__':\n",
    "    print('Parent process %s.'%os.getpid())\n",
    "    p = Pool(4)\n",
    "    for i in range(5):\n",
    "        p.apply_async(long_time_task,args = (i,))\n",
    "    print('Waiting for all subprocesses done...')\n",
    "    p.close()\n",
    "    p.join()\n",
    "    print('All subprosesses done...')"
   ]
  },
  {
   "cell_type": "code",
   "execution_count": null,
   "id": "talented-visit",
   "metadata": {},
   "outputs": [],
   "source": []
  }
 ],
 "metadata": {
  "kernelspec": {
   "display_name": "Python [conda env:OpenCv] *",
   "language": "python",
   "name": "conda-env-OpenCv-py"
  },
  "language_info": {
   "codemirror_mode": {
    "name": "ipython",
    "version": 3
   },
   "file_extension": ".py",
   "mimetype": "text/x-python",
   "name": "python",
   "nbconvert_exporter": "python",
   "pygments_lexer": "ipython3",
   "version": "3.6.12"
  }
 },
 "nbformat": 4,
 "nbformat_minor": 5
}
